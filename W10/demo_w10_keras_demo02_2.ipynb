{
 "cells": [
  {
   "cell_type": "markdown",
   "metadata": {
    "id": "zz68tYqgD6bm"
   },
   "source": [
    "# Demo2:分類電影評論 - 二元分類範例"
   ]
  },
  {
   "cell_type": "markdown",
   "metadata": {
    "id": "ZYBFIo_BjhQL"
   },
   "source": [
    "### 載入 IMDB 資料集"
   ]
  },
  {
   "cell_type": "code",
   "execution_count": null,
   "metadata": {
    "id": "PHzNAmaBi9HT"
   },
   "outputs": [],
   "source": [
    "from tensorflow.keras.datasets import imdb  #從 keras.datasets 套件中匯入 imdb 資料\n",
    "\n",
    "(train_data, train_labels),(test_data, test_labels)= imdb.load_data(\n",
    "    num_words=10000)  #從 imdb 中讀取, 只有在訓練集當中最常用的前 10,000 個單字才會被載入, 分別存入 (訓練資料, 訓練標籤) 和 (測試資料, 測試標籤)"
   ]
  },
  {
   "cell_type": "code",
   "execution_count": null,
   "metadata": {
    "colab": {
     "base_uri": "https://localhost:8080/"
    },
    "id": "quDUGeZLjVRA",
    "outputId": "253b8d13-c2ba-4a5e-9fb1-6f5101502ed4"
   },
   "outputs": [],
   "source": [
    "train_data[0]  #取第 0 篇評論"
   ]
  },
  {
   "cell_type": "code",
   "execution_count": null,
   "metadata": {
    "colab": {
     "base_uri": "https://localhost:8080/"
    },
    "id": "GKMMh0N4jgLl",
    "outputId": "576f1124-d993-44b7-ce0d-cf8d4d9096c6"
   },
   "outputs": [],
   "source": [
    "train_labels[0]  #第 0 篇評論的評價 : 1=正評；0=負評"
   ]
  },
  {
   "cell_type": "code",
   "execution_count": null,
   "metadata": {
    "colab": {
     "base_uri": "https://localhost:8080/"
    },
    "id": "d-jBH9ATvnyQ",
    "outputId": "27ff41ec-aa0e-495e-e260-780a478bda0f"
   },
   "outputs": [],
   "source": [
    "print(len(train_labels), train_labels)"
   ]
  },
  {
   "cell_type": "markdown",
   "metadata": {
    "id": "2Dz6eAaRnVCj"
   },
   "source": [
    "### 將整數 list 編碼成二元矩陣"
   ]
  },
  {
   "cell_type": "code",
   "execution_count": null,
   "metadata": {
    "id": "ESlpNhqJnmBk"
   },
   "outputs": [],
   "source": [
    "import numpy as np  #匯入 numpy 模組, 後續程式以 np 使用\n",
    "\n",
    "def vectorize_sequences(sequences, dimension=10000):  #sequences 將傳入 train_data\n",
    "    results = np.zeros((len(sequences), dimension))\n",
    "    for i, sequence in enumerate(sequences):  #用 enumerate 取元素值\n",
    "        results[i, sequence] = 1.   #將 result[i] 特定索引值的數值設定為 1\n",
    "    return results\n",
    "    \n",
    "x_train = vectorize_sequences(train_data)  #向量化訓練資料\n",
    "x_test = vectorize_sequences(test_data)  #向量化測試資料"
   ]
  },
  {
   "cell_type": "code",
   "execution_count": null,
   "metadata": {
    "colab": {
     "base_uri": "https://localhost:8080/"
    },
    "id": "GNo739uToYt-",
    "outputId": "e1b8d1f2-7365-4de6-a53b-88d6d4e56710"
   },
   "outputs": [],
   "source": [
    "len(x_train[0]), x_train[0]"
   ]
  },
  {
   "cell_type": "code",
   "execution_count": null,
   "metadata": {
    "id": "HzOAc7QIobkr"
   },
   "outputs": [],
   "source": [
    "y_train = np.asarray(train_labels).astype('float32')  #向量化訓練標籤\n",
    "y_test = np.asarray(test_labels).astype('float32')  #向量化測試標籤"
   ]
  },
  {
   "cell_type": "markdown",
   "metadata": {
    "id": "qTO4QxZ1pn6D"
   },
   "source": [
    "### 建立模型"
   ]
  },
  {
   "cell_type": "code",
   "execution_count": null,
   "metadata": {
    "id": "RTEf9Qbmpnl0"
   },
   "outputs": [],
   "source": [
    "from tensorflow.keras import models\n",
    "from tensorflow.keras import layers\n",
    "\n",
    "model = models.Sequential()  #使用 models 模組的 Sequential 類別, 建立一個物件讓新增的神經網路層可以進行堆疊\n",
    "model.add(layers.Dense(16, activation='relu', input_shape=(10000, )))  #輸入層\n",
    "model.add(layers.Dense(16, activation='relu'))  #隱藏層\n",
    "model.add(layers.Dense(1, activation='sigmoid'))  #輸出層"
   ]
  },
  {
   "cell_type": "markdown",
   "metadata": {
    "id": "UKXQBXMwJJe9"
   },
   "source": [
    "### 編譯模型"
   ]
  },
  {
   "cell_type": "code",
   "execution_count": null,
   "metadata": {
    "id": "9Q7qqAzbJVAE"
   },
   "outputs": [],
   "source": [
    "from tensorflow.keras import optimizers\n",
    "\n",
    "model.compile(optimizer='rmsprop',\n",
    "              loss='binary_crossentropy',\n",
    "              metrics=['acc'])  #建立訓練模型\n"
   ]
  },
  {
   "cell_type": "markdown",
   "metadata": {
    "id": "bdBjsKB4JjkF"
   },
   "source": [
    "### 設定驗證資料集"
   ]
  },
  {
   "cell_type": "code",
   "execution_count": null,
   "metadata": {
    "id": "B-w9TPv3JipV"
   },
   "outputs": [],
   "source": [
    "x_val = x_train[:10000]  #取輸入資料的前 10000 個做驗證 (val)\n",
    "partial_x_train = x_train[10000:]  #輸入資料的第 10000 個開始才是訓練資料\n",
    "y_val = y_train[:10000]  #對應的, 要取標籤的前 10000 個做為驗證標籤\n",
    "partial_y_train = y_train[10000:]  #從標籤的第 10000 個開始才是訓練資料的標籤"
   ]
  },
  {
   "cell_type": "markdown",
   "metadata": {
    "id": "VnlH_4IEJhoE"
   },
   "source": [
    "### 訓練模型"
   ]
  },
  {
   "cell_type": "code",
   "execution_count": null,
   "metadata": {
    "colab": {
     "base_uri": "https://localhost:8080/"
    },
    "id": "50j32lLnKb4z",
    "outputId": "407404b2-63fa-4cb8-d254-8e54e3268e79"
   },
   "outputs": [],
   "source": [
    "#呼叫 fit() 開始訓練 (使用 partial_x_train 輸入資料、 partial_y_train 標籤、20 個訓練週期、一次訓練週期使用 512 筆資料\n",
    "history = model.fit(partial_x_train,\n",
    "                    partial_y_train,\n",
    "                    epochs=20,\n",
    "                    batch_size=512,\n",
    "                    validation_data=(x_val, y_val))  #同時傳入驗證集的資料與標籤"
   ]
  },
  {
   "cell_type": "code",
   "execution_count": null,
   "metadata": {
    "colab": {
     "base_uri": "https://localhost:8080/"
    },
    "id": "ocxIAzz6NilK",
    "outputId": "f1d28fdb-44b8-4b57-9e54-5a8b552b94be"
   },
   "outputs": [],
   "source": [
    "history_dict = history.history\n",
    "history_dict.keys()"
   ]
  },
  {
   "cell_type": "markdown",
   "metadata": {
    "id": "ZM5YY3aONid8"
   },
   "source": [
    "### 程式 3.9 繪製訓練與驗證的損失分數"
   ]
  },
  {
   "cell_type": "code",
   "execution_count": null,
   "metadata": {
    "colab": {
     "base_uri": "https://localhost:8080/",
     "height": 295
    },
    "id": "xV6OQuL-NiXL",
    "jupyter": {
     "source_hidden": true
    },
    "outputId": "fcd477c8-0b0b-43b3-80d2-cee09f66e0ea",
    "tags": []
   },
   "outputs": [],
   "source": [
    "import matplotlib.pyplot as plt  #匯入 matplotlib.pyplot 模組, 後續程式用 plt 使用\n",
    "\n",
    "history_dict = history.history\n",
    "loss_values = history_dict['loss']  #取得每次訓練的 loss 訓練損失分數並存成 loss_values 變數\n",
    "val_loss_values = history_dict['val_loss']  #取得每次驗證的 val_loss 驗證損失分數並指定給 val_loss_values 變數\n",
    "\n",
    "\n",
    "epochs = range(1, len(loss_values)+ 1)  #len(loss_values) 項目個數為 20,範圍從 1 到 21 (不含 21) 的期間\n",
    "\n",
    "plt.plot(epochs, loss_values, 'go', label='Training loss')  #以 'b' 指定用藍色線條畫出 x 軸為訓練週期、y 軸為驗證損失分數的圖表, 標籤設為驗證損失分數\n",
    "plt.plot(epochs, val_loss_values, 'b--.', label='Validation loss')  #以 'bo' 指定用藍色點點畫出 x 軸為訓練週期、y 軸為訓練損失分數的圖表, 標籤設為訓練損失分數\n",
    "plt.title('Training and validation loss')\n",
    "plt.xlabel('Epochs')  #將此圖表標題的 x 軸設為訓練週期分數\n",
    "plt.ylabel('Loss')  #將此圖表標題的 y 軸設為損失\n",
    "plt.legend()  #可以追加每個輸出圖表的圖像名稱\n",
    "\n",
    "plt.show()  #顯示圖表"
   ]
  },
  {
   "cell_type": "markdown",
   "metadata": {
    "id": "tuZ3Iis2NiQL"
   },
   "source": [
    "### 程式 3.10 繪製訓練和驗證的準確度"
   ]
  },
  {
   "cell_type": "code",
   "execution_count": null,
   "metadata": {
    "colab": {
     "base_uri": "https://localhost:8080/",
     "height": 295
    },
    "id": "MC1Au20PNiJ8",
    "outputId": "1e24de1c-6add-496b-b6f6-a7c529fae46b"
   },
   "outputs": [],
   "source": [
    "plt.clf()  #清除圖表\n",
    "acc = history_dict['acc']\n",
    "val_acc = history_dict['val_acc']\n",
    "\n",
    "plt.plot(epochs, acc, 'go', label='Training acc')\n",
    "plt.plot(epochs, val_acc, 'b--.', label='Validation acc')\n",
    "plt.title('Training and validation accuracy')\n",
    "plt.xlabel('Epochs')\n",
    "plt.ylabel('Accuracy')\n",
    "plt.legend()\n",
    "\n",
    "plt.show()"
   ]
  },
  {
   "cell_type": "code",
   "execution_count": null,
   "metadata": {},
   "outputs": [],
   "source": []
  }
 ],
 "metadata": {
  "colab": {
   "collapsed_sections": [],
   "name": "demo2_.ipynb",
   "provenance": []
  },
  "gpuClass": "standard",
  "kernelspec": {
   "display_name": "Python 3 (ipykernel)",
   "language": "python",
   "name": "python3"
  },
  "language_info": {
   "codemirror_mode": {
    "name": "ipython",
    "version": 3
   },
   "file_extension": ".py",
   "mimetype": "text/x-python",
   "name": "python",
   "nbconvert_exporter": "python",
   "pygments_lexer": "ipython3",
   "version": "3.7.13"
  }
 },
 "nbformat": 4,
 "nbformat_minor": 4
}
